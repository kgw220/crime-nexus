{
  "cells": [
    {
      "cell_type": "code",
      "source": [
        "# !git clone https://github.com/rapidsai/rapidsai-csp-utils.git\n",
        "# !python rapidsai-csp-utils/colab/pip-install.py"
      ],
      "metadata": {
        "colab": {
          "base_uri": "https://localhost:8080/"
        },
        "id": "1XyZ4jRwWGKW",
        "outputId": "a19ba13a-43d1-4aea-aaab-446e13a4299c"
      },
      "id": "1XyZ4jRwWGKW",
      "execution_count": 1,
      "outputs": [
        {
          "output_type": "stream",
          "name": "stdout",
          "text": [
            "fatal: destination path 'rapidsai-csp-utils' already exists and is not an empty directory.\n",
            "Installing RAPIDS remaining 25.04 libraries\n",
            "Using Python 3.11.13 environment at: /usr\n",
            "Resolved 173 packages in 11.56s\n",
            "Downloading ucx-py-cu12 (2.2MiB)\n",
            "Downloading libcugraph-cu12 (1.4GiB)\n",
            "Downloading rmm-cu12 (1.5MiB)\n",
            "Downloading libcuspatial-cu12 (31.1MiB)\n",
            "Downloading libcuvs-cu12 (1.1GiB)\n",
            "Downloading pylibcudf-cu12 (26.4MiB)\n",
            "Downloading librmm-cu12 (2.9MiB)\n",
            "Downloading libcudf-cu12 (538.8MiB)\n",
            "Downloading cucim-cu12 (5.6MiB)\n",
            "Downloading cuspatial-cu12 (4.1MiB)\n",
            "Downloading cuml-cu12 (9.4MiB)\n",
            "Downloading raft-dask-cu12 (274.9MiB)\n",
            "Downloading pylibcugraph-cu12 (2.0MiB)\n",
            "Downloading cuproj-cu12 (1.1MiB)\n",
            "Downloading libkvikio-cu12 (2.0MiB)\n",
            "Downloading libcuml-cu12 (404.9MiB)\n",
            "Downloading libraft-cu12 (20.8MiB)\n",
            "Downloading cugraph-cu12 (3.0MiB)\n",
            "Downloading cudf-cu12 (1.7MiB)\n",
            "Downloading shapely (2.4MiB)\n",
            "Downloading datashader (17.5MiB)\n",
            "Downloading bokeh (6.6MiB)\n",
            "Downloading dask (1.3MiB)\n",
            "Downloading raft-dask-cu12 (274.9MiB)\n",
            "Downloading cuproj-cu12 (1.1MiB)\n",
            "Downloading cuspatial-cu12 (4.1MiB)\n",
            "Downloading cucim-cu12 (5.6MiB)\n",
            "Downloading ucx-py-cu12 (2.2MiB)\n",
            "Downloading pylibcudf-cu12 (26.4MiB)\n",
            "Downloading libraft-cu12 (20.8MiB)\n",
            "Downloading rmm-cu12 (1.5MiB)\n",
            "Downloading cudf-cu12 (1.7MiB)\n",
            "Downloading librmm-cu12 (2.9MiB)\n",
            "Downloading pylibcugraph-cu12 (2.0MiB)\n",
            "Downloading cugraph-cu12 (3.0MiB)\n",
            "Downloading libcugraph-cu12 (1.4GiB)\n",
            "Downloading libcudf-cu12 (538.8MiB)\n",
            "Downloading libkvikio-cu12 (2.0MiB)\n",
            "Downloading cuml-cu12 (9.4MiB)\n",
            " Downloaded cuproj-cu12\n",
            "Downloading libcuvs-cu12 (1.1GiB)\n",
            "Downloading libcuspatial-cu12 (31.1MiB)\n",
            "Downloading libcuml-cu12 (404.9MiB)\n",
            " Downloaded shapely\n",
            " Downloaded datashader\n",
            " Downloaded dask\n",
            " Downloaded libkvikio-cu12\n",
            " Downloaded ucx-py-cu12\n",
            " Downloaded cudf-cu12\n",
            " Downloaded cucim-cu12\n",
            " Downloaded cuspatial-cu12\n",
            " Downloaded rmm-cu12\n",
            " Downloaded pylibcugraph-cu12\n",
            " Downloaded cugraph-cu12\n",
            " Downloaded librmm-cu12\n",
            " Downloaded cuml-cu12\n",
            " Downloaded bokeh\n",
            " Downloaded libraft-cu12\n",
            " Downloaded pylibcudf-cu12\n",
            " Downloaded libcuspatial-cu12\n",
            " Downloaded raft-dask-cu12\n",
            " Downloaded libcuml-cu12\n",
            " Downloaded libcudf-cu12\n",
            " Downloaded libcuvs-cu12\n",
            " Downloaded libcugraph-cu12\n",
            "Prepared 50 packages in 1m 12s\n",
            "Uninstalled 29 packages in 906ms\n",
            "Installed 52 packages in 415ms\n",
            " + arrow==1.3.0\n",
            " - bokeh==3.7.3\n",
            " + bokeh==3.6.3\n",
            " + cucim-cu12==25.4.0\n",
            " - cudf-cu12==25.2.1 (from https://pypi.nvidia.com/cudf-cu12/cudf_cu12-25.2.1-cp311-cp311-manylinux_2_24_x86_64.manylinux_2_28_x86_64.whl)\n",
            " + cudf-cu12==25.4.0\n",
            " + cugraph-cu12==25.4.1\n",
            " - cuml-cu12==25.2.1\n",
            " + cuml-cu12==25.4.0\n",
            " + cuproj-cu12==25.4.0\n",
            " + cuspatial-cu12==25.4.0\n",
            " - cuvs-cu12==25.2.1\n",
            " + cuvs-cu12==25.4.0\n",
            " + cuxfilter-cu12==25.4.0\n",
            " - dask==2024.12.1\n",
            " + dask==2025.2.0\n",
            " - dask-cuda==25.2.0\n",
            " + dask-cuda==25.4.0\n",
            " - dask-cudf-cu12==25.2.2\n",
            " + dask-cudf-cu12==25.4.0\n",
            " + datashader==0.18.1\n",
            " - distributed==2024.12.1\n",
            " + distributed==2025.2.0\n",
            " - distributed-ucxx-cu12==0.42.0\n",
            " + distributed-ucxx-cu12==0.43.0\n",
            " + fqdn==1.5.1\n",
            " + isoduration==20.11.0\n",
            " - jupyter-client==6.1.12\n",
            " + jupyter-client==8.6.3\n",
            " + jupyter-events==0.12.0\n",
            " - jupyter-server==1.16.0\n",
            " + jupyter-server==2.16.0\n",
            " + jupyter-server-proxy==4.4.0\n",
            " + jupyter-server-terminals==0.5.3\n",
            " - libcudf-cu12==25.2.1 (from https://pypi.nvidia.com/libcudf-cu12/libcudf_cu12-25.2.1-py3-none-manylinux_2_28_x86_64.whl)\n",
            " + libcudf-cu12==25.4.0\n",
            " - libcugraph-cu12==25.2.0\n",
            " + libcugraph-cu12==25.4.1\n",
            " - libcuml-cu12==25.2.1\n",
            " + libcuml-cu12==25.4.0\n",
            " + libcuspatial-cu12==25.4.0\n",
            " - libcuvs-cu12==25.2.1\n",
            " + libcuvs-cu12==25.4.0\n",
            " - libkvikio-cu12==25.2.1\n",
            " + libkvikio-cu12==25.4.0\n",
            " - libraft-cu12==25.2.0\n",
            " + libraft-cu12==25.4.0\n",
            " + librmm-cu12==25.4.0\n",
            " - libucxx-cu12==0.42.0\n",
            " + libucxx-cu12==0.43.0\n",
            " - numba-cuda==0.2.0\n",
            " + numba-cuda==0.4.0\n",
            " - nx-cugraph-cu12==25.2.0 (from https://pypi.nvidia.com/nx-cugraph-cu12/nx_cugraph_cu12-25.2.0-py3-none-any.whl)\n",
            " + nx-cugraph-cu12==25.4.0\n",
            " + overrides==7.7.0\n",
            " + pyct==0.5.0\n",
            " - pylibcudf-cu12==25.2.1 (from https://pypi.nvidia.com/pylibcudf-cu12/pylibcudf_cu12-25.2.1-cp311-cp311-manylinux_2_24_x86_64.manylinux_2_28_x86_64.whl)\n",
            " + pylibcudf-cu12==25.4.0\n",
            " - pylibcugraph-cu12==25.2.0\n",
            " + pylibcugraph-cu12==25.4.1\n",
            " - pylibraft-cu12==25.2.0\n",
            " + pylibraft-cu12==25.4.0\n",
            " + python-json-logger==3.3.0\n",
            " - raft-dask-cu12==25.2.0\n",
            " + raft-dask-cu12==25.4.0\n",
            " - rapids-dask-dependency==25.2.0\n",
            " + rapids-dask-dependency==25.4.0\n",
            " + rapids-logger==0.1.1\n",
            " + rfc3339-validator==0.1.4\n",
            " + rfc3986-validator==0.1.1\n",
            " - rmm-cu12==25.2.0\n",
            " + rmm-cu12==25.4.0\n",
            " - shapely==2.1.1\n",
            " + shapely==2.0.7\n",
            " + simpervisor==1.0.0\n",
            " + types-python-dateutil==2.9.0.20250708\n",
            " - ucx-py-cu12==0.42.0\n",
            " + ucx-py-cu12==0.43.0\n",
            " - ucxx-cu12==0.42.0\n",
            " + ucxx-cu12==0.43.0\n",
            " + uri-template==1.3.0\n",
            "\n",
            "        ***********************************************************************\n",
            "        The pip install of RAPIDS is complete.\n",
            "\n",
            "        Please do not run any further installation from the conda based installation methods, as they may cause issues!\n",
            "\n",
            "        Please ensure that you're pulling from the git repo to remain updated with the latest working install scripts.\n",
            "\n",
            "        Troubleshooting:\n",
            "            - If there is an installation failure, please check back on RAPIDSAI owned templates/notebooks to see how to update your personal files.\n",
            "            - If an installation failure persists when using the latest script, please make an issue on https://github.com/rapidsai-community/rapidsai-csp-utils\n",
            "        ***********************************************************************\n",
            "        \n"
          ]
        }
      ]
    },
    {
      "cell_type": "code",
      "source": [
        "# !pip install umap-learn hdbscan geopandas matplotlib seaborn numpy pandas umap-learn scikit-learn"
      ],
      "metadata": {
        "colab": {
          "base_uri": "https://localhost:8080/"
        },
        "id": "8KRTHwMcWQ6Y",
        "outputId": "3bd1fa1f-3582-4ce3-9192-f19f3cfd5818"
      },
      "id": "8KRTHwMcWQ6Y",
      "execution_count": 2,
      "outputs": [
        {
          "output_type": "stream",
          "name": "stdout",
          "text": [
            "Requirement already satisfied: umap-learn in /usr/local/lib/python3.11/dist-packages (0.5.9.post2)\n",
            "Requirement already satisfied: hdbscan in /usr/local/lib/python3.11/dist-packages (0.8.40)\n",
            "Requirement already satisfied: geopandas in /usr/local/lib/python3.11/dist-packages (1.0.1)\n",
            "Requirement already satisfied: matplotlib in /usr/local/lib/python3.11/dist-packages (3.10.0)\n",
            "Requirement already satisfied: seaborn in /usr/local/lib/python3.11/dist-packages (0.13.2)\n",
            "Requirement already satisfied: numpy in /usr/local/lib/python3.11/dist-packages (2.0.2)\n",
            "Requirement already satisfied: pandas in /usr/local/lib/python3.11/dist-packages (2.2.2)\n",
            "Requirement already satisfied: scikit-learn in /usr/local/lib/python3.11/dist-packages (1.6.1)\n",
            "Requirement already satisfied: scipy>=1.3.1 in /usr/local/lib/python3.11/dist-packages (from umap-learn) (1.15.3)\n",
            "Requirement already satisfied: numba>=0.51.2 in /usr/local/lib/python3.11/dist-packages (from umap-learn) (0.60.0)\n",
            "Requirement already satisfied: pynndescent>=0.5 in /usr/local/lib/python3.11/dist-packages (from umap-learn) (0.5.13)\n",
            "Requirement already satisfied: tqdm in /usr/local/lib/python3.11/dist-packages (from umap-learn) (4.67.1)\n",
            "Requirement already satisfied: joblib>=1.0 in /usr/local/lib/python3.11/dist-packages (from hdbscan) (1.5.1)\n",
            "Requirement already satisfied: pyogrio>=0.7.2 in /usr/local/lib/python3.11/dist-packages (from geopandas) (0.11.0)\n",
            "Requirement already satisfied: packaging in /usr/local/lib/python3.11/dist-packages (from geopandas) (24.2)\n",
            "Requirement already satisfied: pyproj>=3.3.0 in /usr/local/lib/python3.11/dist-packages (from geopandas) (3.7.1)\n",
            "Requirement already satisfied: shapely>=2.0.0 in /usr/local/lib/python3.11/dist-packages (from geopandas) (2.0.7)\n",
            "Requirement already satisfied: contourpy>=1.0.1 in /usr/local/lib/python3.11/dist-packages (from matplotlib) (1.3.2)\n",
            "Requirement already satisfied: cycler>=0.10 in /usr/local/lib/python3.11/dist-packages (from matplotlib) (0.12.1)\n",
            "Requirement already satisfied: fonttools>=4.22.0 in /usr/local/lib/python3.11/dist-packages (from matplotlib) (4.58.5)\n",
            "Requirement already satisfied: kiwisolver>=1.3.1 in /usr/local/lib/python3.11/dist-packages (from matplotlib) (1.4.8)\n",
            "Requirement already satisfied: pillow>=8 in /usr/local/lib/python3.11/dist-packages (from matplotlib) (11.2.1)\n",
            "Requirement already satisfied: pyparsing>=2.3.1 in /usr/local/lib/python3.11/dist-packages (from matplotlib) (3.2.3)\n",
            "Requirement already satisfied: python-dateutil>=2.7 in /usr/local/lib/python3.11/dist-packages (from matplotlib) (2.9.0.post0)\n",
            "Requirement already satisfied: pytz>=2020.1 in /usr/local/lib/python3.11/dist-packages (from pandas) (2025.2)\n",
            "Requirement already satisfied: tzdata>=2022.7 in /usr/local/lib/python3.11/dist-packages (from pandas) (2025.2)\n",
            "Requirement already satisfied: threadpoolctl>=3.1.0 in /usr/local/lib/python3.11/dist-packages (from scikit-learn) (3.6.0)\n",
            "Requirement already satisfied: llvmlite<0.44,>=0.43.0dev0 in /usr/local/lib/python3.11/dist-packages (from numba>=0.51.2->umap-learn) (0.43.0)\n",
            "Requirement already satisfied: certifi in /usr/local/lib/python3.11/dist-packages (from pyogrio>=0.7.2->geopandas) (2025.7.14)\n",
            "Requirement already satisfied: six>=1.5 in /usr/local/lib/python3.11/dist-packages (from python-dateutil>=2.7->matplotlib) (1.17.0)\n"
          ]
        }
      ]
    },
    {
      "cell_type": "code",
      "execution_count": 3,
      "id": "2c2a40d1",
      "metadata": {
        "colab": {
          "base_uri": "https://localhost:8080/"
        },
        "id": "2c2a40d1",
        "outputId": "429c2927-057e-442d-a4e8-742e956f396a"
      },
      "outputs": [
        {
          "output_type": "stream",
          "name": "stdout",
          "text": [
            "cuML: Installed accelerator for sklearn.\n",
            "cuML: Installed accelerator for umap.\n",
            "cuML: Installed accelerator for hdbscan.\n",
            "cuML: Successfully initialized accelerator.\n"
          ]
        }
      ],
      "source": [
        "\"\"\"\n",
        "This is a notebook to walkthrough the process of clustering the combined data.\n",
        "\n",
        "NOTE: For speedup, this notebook was ran in Google Colab. File paths will change\n",
        "slightly as a result.\n",
        "\"\"\"\n",
        "# NOTE: These are some commands I had to run at the top of this notebook, to\n",
        "# make it work in Google Colab.\n",
        "# !git clone https://github.com/rapidsai/rapidsai-csp-utils.git\n",
        "# !python rapidsai-csp-utils/colab/pip-install.py\n",
        "# !pip install umap-learn hdbscan geopandas matplotlib seaborn numpy pandas \\\n",
        "# umap-learn scikit-learn\n",
        "\n",
        "# Load cuml extension to use a dGPU for calculations (which lead to much faster\n",
        "# computation times)\n",
        "%load_ext cuml.accel\n",
        "\n",
        "import geopandas as gpd\n",
        "import hdbscan\n",
        "import matplotlib.pyplot as plt\n",
        "import numpy as np\n",
        "import pandas as pd\n",
        "import seaborn as sns\n",
        "import umap\n",
        "\n",
        "from sklearn.preprocessing import StandardScaler"
      ]
    },
    {
      "cell_type": "code",
      "execution_count": 4,
      "id": "e7989ee1",
      "metadata": {
        "colab": {
          "base_uri": "https://localhost:8080/"
        },
        "id": "e7989ee1",
        "outputId": "e53142b8-c28f-4a1e-e58b-ef54297ddf70"
      },
      "outputs": [
        {
          "output_type": "stream",
          "name": "stdout",
          "text": [
            "  dispatch_date       dispatch_time            address_block        lat  \\\n",
            "0    2025-05-02 2025-07-08 23:44:00      1100 BLOCK S 4TH ST  39.934248   \n",
            "2    2025-04-23 2025-07-08 18:32:00     1700 BLOCK N 32ND ST  39.983588   \n",
            "3    2025-04-24 2025-07-08 00:47:00  1300 BLOCK W Venango St  40.007425   \n",
            "4    2025-02-26 2025-07-08 20:16:00      400 BLOCK N 35TH ST  39.961642   \n",
            "5    2025-04-13 2025-07-08 03:15:00      5100 BLOCK N 5TH ST  40.029310   \n",
            "\n",
            "         lon  district_01  district_02  district_03  district_05  district_06  \\\n",
            "0 -75.150833        False        False         True        False        False   \n",
            "2 -75.186199        False        False        False        False        False   \n",
            "3 -75.149843        False        False        False        False        False   \n",
            "4 -75.192723        False        False        False        False        False   \n",
            "5 -75.132056        False        False        False        False        False   \n",
            "\n",
            "   ...  max_temp_f  min_temp_f  pop_total  income_median  median_age  \\\n",
            "0  ...        86.0        59.0     4306.0        83508.0        36.4   \n",
            "2  ...        77.0        54.0     4140.0        37431.0        35.5   \n",
            "3  ...        79.0        50.0     2807.0        49115.0        44.4   \n",
            "4  ...        61.0        35.0     7525.0        38976.0        20.0   \n",
            "5  ...        62.0        42.0     7170.0        60892.0        34.2   \n",
            "\n",
            "   poverty_rate  vacancy_rate  renter_occupancy_rate  area_sq_km  \\\n",
            "0      0.204366      0.032818               0.440136    0.398697   \n",
            "2      0.401691      0.130470               0.550792    0.453221   \n",
            "3      0.259708      0.204270               0.464222    0.508176   \n",
            "4      0.205050      0.104931               0.880205    0.436319   \n",
            "5      0.217434      0.042004               0.310769    0.717845   \n",
            "\n",
            "   pop_density_sq_km  \n",
            "0       10800.181592  \n",
            "2        9134.616445  \n",
            "3        5523.676836  \n",
            "4       17246.555846  \n",
            "5        9988.228657  \n",
            "\n",
            "[5 rows x 88 columns]\n"
          ]
        }
      ],
      "source": [
        "# Import data from previous notebook\n",
        "df = pd.read_pickle(\"merged_data_2022-07-08_to_2025-07-07.pkl\")\n",
        "# df = pd.read_pickle(\"data/merged_data_2022-07-08_to_2025-07-07.pkl\")\n",
        "print(df.head())"
      ]
    },
    {
      "cell_type": "markdown",
      "id": "80f958fd",
      "metadata": {
        "id": "80f958fd"
      },
      "source": [
        "The first significant step is to scale our data, as clustering is based on distance. This is to avoid\n",
        "features that are naturally greater in range, take higher importance/precedence when clustered."
      ]
    },
    {
      "cell_type": "code",
      "execution_count": 5,
      "id": "092cebb2",
      "metadata": {
        "colab": {
          "base_uri": "https://localhost:8080/"
        },
        "id": "092cebb2",
        "outputId": "f03e984a-ffee-4568-845c-fb0aba1b99ff"
      },
      "outputs": [
        {
          "output_type": "stream",
          "name": "stdout",
          "text": [
            "  dispatch_date       dispatch_time            address_block       lat  \\\n",
            "0    2025-05-02 2025-07-08 23:44:00      1100 BLOCK S 4TH ST -1.407757   \n",
            "2    2025-04-23 2025-07-08 18:32:00     1700 BLOCK N 32ND ST -0.323392   \n",
            "3    2025-04-24 2025-07-08 00:47:00  1300 BLOCK W Venango St  0.200477   \n",
            "4    2025-02-26 2025-07-08 20:16:00      400 BLOCK N 35TH ST -0.805715   \n",
            "5    2025-04-13 2025-07-08 03:15:00      5100 BLOCK N 5TH ST  0.681454   \n",
            "\n",
            "        lon  district_01  district_02  district_03  district_05  district_06  \\\n",
            "0 -0.066541        False        False         True        False        False   \n",
            "2 -0.628440        False        False        False        False        False   \n",
            "3 -0.050807        False        False        False        False        False   \n",
            "4 -0.732081        False        False        False        False        False   \n",
            "5  0.231798        False        False        False        False        False   \n",
            "\n",
            "   ...  max_temp_f  min_temp_f  pop_total  income_median  median_age  \\\n",
            "0  ...    1.028564    0.511307  -0.125704       0.135994    0.040246   \n",
            "2  ...    0.508399    0.198620  -0.222344       0.135475   -0.091601   \n",
            "3  ...    0.623991   -0.051529  -0.998372       0.135607    1.212221   \n",
            "4  ...   -0.416339   -0.989590   1.748291       0.135493   -2.362304   \n",
            "5  ...   -0.358543   -0.551829   1.541621       0.135739   -0.282047   \n",
            "\n",
            "   poverty_rate  vacancy_rate  renter_occupancy_rate  area_sq_km  \\\n",
            "0     -0.314030     -1.165121              -0.301037   -0.628530   \n",
            "2      1.162551      0.390956               0.270198   -0.529468   \n",
            "3      0.100093      1.566956              -0.176699   -0.429624   \n",
            "4     -0.308913     -0.016002               1.970707   -0.560176   \n",
            "5     -0.216245     -1.018731              -0.968858   -0.048689   \n",
            "\n",
            "   pop_density_sq_km  \n",
            "0           0.803145  \n",
            "2           0.351528  \n",
            "3          -0.627576  \n",
            "4           2.551075  \n",
            "5           0.582984  \n",
            "\n",
            "[5 rows x 88 columns]\n"
          ]
        }
      ],
      "source": [
        "# Initialize StandardScaler and config it to output a DataFrame\n",
        "scaler = StandardScaler()\n",
        "scaler.set_output(transform='pandas')\n",
        "\n",
        "# Extract the columns to scale\n",
        "numeric_cols = df.select_dtypes(include=np.number).columns.tolist()\n",
        "# NOTE: I do not want to scale the sinusoidal features as they are already in the desired range\n",
        "cols_to_scale = [\n",
        "    col for col in numeric_cols\n",
        "    if '_sin' not in col and '_cos' not in col\n",
        "]\n",
        "\n",
        "# Fit and transform the data\n",
        "df[cols_to_scale] = scaler.fit_transform(df[cols_to_scale])\n",
        "\n",
        "# Print the scaled data as sanity check\n",
        "print(df.head())"
      ]
    },
    {
      "cell_type": "markdown",
      "id": "6b2d4dc9",
      "metadata": {
        "id": "6b2d4dc9"
      },
      "source": [
        "Now, the data is ready for applying UMAP. This is a non-linear dimensionality\n",
        "reduction algorithm, based on topology (allowing it to capture those non-linear patterns). This is\n",
        "used, as clustering our data with over 80 columns can easily lead to the curse of dimensionality,\n",
        "leading to much higher computational time and overfitting.\n",
        "\n",
        "However, some columns in the data cannot be used here, so I drop them - They will be re-added later\n",
        "as part of the final analysis."
      ]
    },
    {
      "cell_type": "code",
      "execution_count": 6,
      "id": "ceba313b",
      "metadata": {
        "id": "ceba313b"
      },
      "outputs": [],
      "source": [
        "columns_to_drop = [\n",
        "    'dispatch_date',\n",
        "    'dispatch_time',\n",
        "    'address_block',\n",
        "    'dispatch_date_dt',\n",
        "    'geometry',\n",
        "    'tract_id'\n",
        "]\n",
        "\n",
        "df_umap_ready = df.drop(columns=columns_to_drop)"
      ]
    },
    {
      "cell_type": "code",
      "execution_count": 7,
      "id": "a128c86e",
      "metadata": {
        "colab": {
          "base_uri": "https://localhost:8080/"
        },
        "id": "a128c86e",
        "outputId": "b232a075-4049-4c2b-b615-1d051cac510f"
      },
      "outputs": [
        {
          "output_type": "stream",
          "name": "stdout",
          "text": [
            "build_algo set to brute_force_knn because random_state is given\n"
          ]
        }
      ],
      "source": [
        "# Initialize UMAP. I'll stick with some static parameters for this experimental notebook, but\n",
        "# the actual script should optimize with MLFlow.\n",
        "reducer = umap.UMAP(n_neighbors=15, min_dist=0.1, random_state=42)\n",
        "\n",
        "# Fit and transform the data\n",
        "df_embedding = reducer.fit_transform(df_umap_ready).astype('float64')"
      ]
    },
    {
      "cell_type": "code",
      "execution_count": 8,
      "id": "6e60d56e",
      "metadata": {
        "colab": {
          "base_uri": "https://localhost:8080/",
          "height": 564
        },
        "id": "6e60d56e",
        "outputId": "c95b8904-57c1-43ca-d9ae-0810442e509e"
      },
      "outputs": [
        {
          "output_type": "display_data",
          "data": {
            "text/plain": [
              "<Figure size 800x600 with 1 Axes>"
            ],
            "image/png": "[encoded data removed]"
          },
          "metadata": {}
        }
      ],
      "source": [
        "plt.figure(figsize=(8, 6))\n",
        "plt.scatter(df_embedding[:, 0], df_embedding[:, 1], s=100)\n",
        "plt.title('UMAP Projection')\n",
        "plt.xlabel('UMAP Component 1')\n",
        "plt.ylabel('UMAP Component 2')\n",
        "plt.grid(True)\n",
        "plt.show()"
      ]
    },
    {
      "cell_type": "markdown",
      "source": [
        "From this, it's clear that there is a single cluster of points in the center,\n",
        "meaning that most of our observations could be combined together. There are some\n",
        "points that are far away from the center, so perhaps these are outliers.\n",
        "\n",
        "At this point, I apply HDBSCAN to cluster this embedded data, to hopefully\n",
        "shine some further light into the data."
      ],
      "metadata": {
        "id": "v4Li9JBsXF9O"
      },
      "id": "v4Li9JBsXF9O"
    },
    {
      "cell_type": "code",
      "source": [
        "# Initialize HDBSCAN object, again with some starting parameters for this\n",
        "# notebook\n",
        "clusterer = hdbscan.HDBSCAN(\n",
        "    min_cluster_size=10000,\n",
        "    min_samples=40,\n",
        "    gen_min_span_tree=True\n",
        ")\n",
        "\n",
        "# Fit the HDBSCAN model with the UMAP embedded data\n",
        "clusterer.fit(df_embedding)"
      ],
      "metadata": {
        "colab": {
          "base_uri": "https://localhost:8080/"
        },
        "id": "ZIJXCIxKYPaV",
        "outputId": "16352048-530f-473c-8d13-56bbd2b978f8"
      },
      "id": "ZIJXCIxKYPaV",
      "execution_count": 9,
      "outputs": [
        {
          "output_type": "stream",
          "name": "stdout",
          "text": [
            "Number of clusters found: 12\n",
            "Cluster labels: [10  0 -1 ... 10 10  5]\n"
          ]
        }
      ]
    },
    {
      "cell_type": "markdown",
      "source": [
        "Now, I want to evaluate how well the clustering is. This is a bit open ended in nature, given that there is no pre-defined \"true\" label for the cluster.\n",
        "Instead, I use a combination of 3 metrics to calculate a common score of sorts.\n",
        "\n",
        "The first is the DBCV score. This measures how well points within each cluster\n",
        "are clustered together, and how well separated individual clusters are. This\n",
        "has a range of -1 to 1, with 1 having perfect clusters, 0 suggesting an ambigiuous cluster structure, and -1 indicating points likely being assigned to the wrong cluster - Ideal scores are positive as close to 1.\n",
        "\n",
        "The second is the proportion of noise. This is just the proportion of our data that was considered an outlier by HDBSCAN. Lower is better, of course.\n",
        "\n",
        "The third is the number of clusters. HDBSCAN is unique in that it will automatically determine the best number of clusters (compared to other algorithms where this is pre-defined), but we do not want to have a ton of clusters, which is quite possible with the scale of the data being used. To some degree, this wants to be minimized.\n",
        "\n",
        "I define a custom metric combining all three as follows:\n",
        "$$\n",
        "\\text{Score}_{\\text{custom}} = (\\text{Score}_{\\text{DBCV}} - P_{\\text{noise}}) - \\alpha \\cdot \\ln(1 + N_{\\text{clusters}})\n",
        "$$\n",
        "This subtracts the DBCV score with the proportion of noise, and then subtracts by a log transformation of the # of clusters. Given the range of all the other metrics, the range of my new custom metric is roughly negative infinity to 0.89 (this upper bound is with a DBCV score of 1, noise proportion of 0, and 2 clusters). In broader terms, the higher this custom score is, the better."
      ],
      "metadata": {
        "id": "RUgIOAdHiHai"
      },
      "id": "RUgIOAdHiHai"
    },
    {
      "cell_type": "code",
      "source": [
        "# Extract the cluster labels from the model\n",
        "labels = clusterer.labels_\n",
        "\n",
        "# Get DBCV score\n",
        "dbcv_score = clusterer.relative_validity_\n",
        "\n",
        "# Get noise proportion\n",
        "noise_prop = np.sum(labels == -1) / len(labels)\n",
        "\n",
        "# Get # of clusters\n",
        "num_clusters = len(set(labels)) - (1 if -1 in labels else 0)\n",
        "\n",
        "# Define a custom score combining the DBCV score, proportion of noise, and\n",
        "# number of clusters\n",
        "custom_score = (dbcv_score - noise_prop) - (0.1 * np.log1p(num_clusters))\n",
        "print(f\" Custom score (higher is better): {custom_score}\")"
      ],
      "metadata": {
        "id": "ErGMwhSzbdNZ",
        "colab": {
          "base_uri": "https://localhost:8080/"
        },
        "outputId": "60274c9d-d02a-47e1-bbcf-5f905d7de10d"
      },
      "id": "ErGMwhSzbdNZ",
      "execution_count": 20,
      "outputs": [
        {
          "output_type": "stream",
          "name": "stdout",
          "text": [
            "12\n",
            " Custom score (higher is better): 0.4859672196438924\n"
          ]
        }
      ]
    },
    {
      "cell_type": "markdown",
      "source": [
        "Overall, this is not too bad. Given the scale of the crime data I am using, I cannot realistically expect this to be very high, but at least for the static copy of the data stored from the previous notebook, this is fairly decent! More work can be done of course, but that's a whole other can of worms I will not worry about for now.\n",
        "\n",
        "From here, I try to highlight each cluster with the UMAP embedded data."
      ],
      "metadata": {
        "id": "TQXrbktnknF-"
      },
      "id": "TQXrbktnknF-"
    },
    {
      "cell_type": "code",
      "source": [
        "# Add the cluster labels to the UMAP embedded data\n",
        "df_embedding_labeled = pd.DataFrame(df_embedding, columns=['UMAP Component 1', 'UMAP Component 2'])\n",
        "df_embedding_labeled['label'] = labels\n",
        "\n",
        "# Display the UMAP data with cluster labels\n",
        "plt.figure(figsize=(10, 8))\n",
        "sns.scatterplot(\n",
        "    x='UMAP Component 1',\n",
        "    y='UMAP Component 2',\n",
        "    hue='label',\n",
        "    data=df_embedding_labeled,\n",
        "    palette='viridis',\n",
        "    s=20,\n",
        "    legend='full'\n",
        ")\n",
        "plt.title('UMAP Projection with HDBSCAN Cluster Labels')\n",
        "plt.xlabel('UMAP Component 1')\n",
        "plt.ylabel('UMAP Component 2')\n",
        "plt.grid(True)\n",
        "plt.show()"
      ],
      "metadata": {
        "colab": {
          "base_uri": "https://localhost:8080/",
          "height": 718
        },
        "id": "iJDj7Saml6_R",
        "outputId": "1c15b808-4a72-43df-deae-73a6d78292ef"
      },
      "id": "iJDj7Saml6_R",
      "execution_count": 21,
      "outputs": [
        {
          "output_type": "display_data",
          "data": {
            "text/plain": [
              "<Figure size 1000x800 with 1 Axes>"
            ],
            "image/png": "[encoded data removed]"
          },
          "metadata": {}
        }
      ]
    },
    {
      "cell_type": "markdown",
      "source": [
        "Admittedly, this plot is not the best. Since there are so many clusters, it is hard to distinquish between them, especially since all the dots for this embedded data are with that one cluster in the center. What can be seen though, is that the distinquished clusters do have some form of cluster: Most of the green and yellow dots are right in the middle, with the green/blue dots around that, and the purple dots around that. This is good to verify that HDBSCAN is indeed working (e.g. having dots without any pattern of the color would be more concerning)."
      ],
      "metadata": {
        "id": "l4k9-cFor86O"
      },
      "id": "l4k9-cFor86O"
    },
    {
      "cell_type": "markdown",
      "source": [
        "The final task now, is just adding the cluster labels back to the original dataframe."
      ],
      "metadata": {
        "id": "jeRdA_tNtHqL"
      },
      "id": "jeRdA_tNtHqL"
    },
    {
      "cell_type": "code",
      "source": [
        "# Adding a new cluster label column to the original dataframe, `df`, without the\n",
        "# scaled data. This is for the final bit of EDA, and we do not want to perform\n",
        "# that with the scaled data.\n",
        "\n",
        "df['cluster_label'] = labels\n",
        "print(df.head())"
      ],
      "metadata": {
        "colab": {
          "base_uri": "https://localhost:8080/"
        },
        "id": "sZCl7BxktQ0N",
        "outputId": "9a569093-f1c2-4a28-a5cc-a245295c506e"
      },
      "id": "sZCl7BxktQ0N",
      "execution_count": 24,
      "outputs": [
        {
          "output_type": "stream",
          "name": "stdout",
          "text": [
            "  dispatch_date       dispatch_time            address_block       lat  \\\n",
            "0    2025-05-02 2025-07-08 23:44:00      1100 BLOCK S 4TH ST -1.407757   \n",
            "2    2025-04-23 2025-07-08 18:32:00     1700 BLOCK N 32ND ST -0.323392   \n",
            "3    2025-04-24 2025-07-08 00:47:00  1300 BLOCK W Venango St  0.200477   \n",
            "4    2025-02-26 2025-07-08 20:16:00      400 BLOCK N 35TH ST -0.805715   \n",
            "5    2025-04-13 2025-07-08 03:15:00      5100 BLOCK N 5TH ST  0.681454   \n",
            "\n",
            "        lon  district_01  district_02  district_03  district_05  district_06  \\\n",
            "0 -0.066541        False        False         True        False        False   \n",
            "2 -0.628440        False        False        False        False        False   \n",
            "3 -0.050807        False        False        False        False        False   \n",
            "4 -0.732081        False        False        False        False        False   \n",
            "5  0.231798        False        False        False        False        False   \n",
            "\n",
            "   ...  min_temp_f  pop_total  income_median  median_age  poverty_rate  \\\n",
            "0  ...    0.511307  -0.125704       0.135994    0.040246     -0.314030   \n",
            "2  ...    0.198620  -0.222344       0.135475   -0.091601      1.162551   \n",
            "3  ...   -0.051529  -0.998372       0.135607    1.212221      0.100093   \n",
            "4  ...   -0.989590   1.748291       0.135493   -2.362304     -0.308913   \n",
            "5  ...   -0.551829   1.541621       0.135739   -0.282047     -0.216245   \n",
            "\n",
            "   vacancy_rate  renter_occupancy_rate  area_sq_km  pop_density_sq_km  \\\n",
            "0     -1.165121              -0.301037   -0.628530           0.803145   \n",
            "2      0.390956               0.270198   -0.529468           0.351528   \n",
            "3      1.566956              -0.176699   -0.429624          -0.627576   \n",
            "4     -0.016002               1.970707   -0.560176           2.551075   \n",
            "5     -1.018731              -0.968858   -0.048689           0.582984   \n",
            "\n",
            "   cluster_label  \n",
            "0             10  \n",
            "2              0  \n",
            "3             -1  \n",
            "4              4  \n",
            "5             -1  \n",
            "\n",
            "[5 rows x 89 columns]\n"
          ]
        }
      ]
    },
    {
      "cell_type": "code",
      "source": [
        "# Save the data with the cluster labels as a .pkl file\n",
        "filepath = f\"data/labeled_merged_data_2022-07-08_to_2025-07-07.pkl\"\n",
        "filepath = f\"labeled_merged_data_2022-07-08_to_2025-07-07.pkl\"\n",
        "df.to_pickle(filepath)"
      ],
      "metadata": {
        "id": "_r-zbB-0tiao"
      },
      "id": "_r-zbB-0tiao",
      "execution_count": 26,
      "outputs": []
    }
  ],
  "metadata": {
    "kernelspec": {
      "display_name": "Python 3",
      "name": "python3"
    },
    "language_info": {
      "codemirror_mode": {
        "name": "ipython",
        "version": 3
      },
      "file_extension": ".py",
      "mimetype": "text/x-python",
      "name": "python",
      "nbconvert_exporter": "python",
      "pygments_lexer": "ipython3",
      "version": "3.13.5"
    },
    "colab": {
      "provenance": [],
      "gpuType": "T4"
    },
    "accelerator": "GPU"
  },
  "nbformat": 4,
  "nbformat_minor": 5
}